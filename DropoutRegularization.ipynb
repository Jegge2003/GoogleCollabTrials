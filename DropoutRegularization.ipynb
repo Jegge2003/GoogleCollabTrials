{
  "nbformat": 4,
  "nbformat_minor": 0,
  "metadata": {
    "colab": {
      "name": "DropoutRegularization.ipynb",
      "provenance": [],
      "authorship_tag": "ABX9TyN2SIISGQoPsiCs3T1Tpqhu",
      "include_colab_link": true
    },
    "kernelspec": {
      "name": "python3",
      "display_name": "Python 3"
    },
    "language_info": {
      "name": "python"
    }
  },
  "cells": [
    {
      "cell_type": "markdown",
      "metadata": {
        "id": "view-in-github",
        "colab_type": "text"
      },
      "source": [
        "<a href=\"https://colab.research.google.com/github/Jegge2003/GoogleCollabTrials/blob/main/DropoutRegularization.ipynb\" target=\"_parent\"><img src=\"https://colab.research.google.com/assets/colab-badge.svg\" alt=\"Open In Colab\"/></a>"
      ]
    },
    {
      "cell_type": "code",
      "metadata": {
        "id": "I30BgVPcMoaz"
      },
      "source": [
        "import numpy as np\n",
        "import pandas as pd\n",
        "import matplotlib.pyplot as plt\n",
        "import seaborn as sns\n"
      ],
      "execution_count": 1,
      "outputs": []
    },
    {
      "cell_type": "code",
      "metadata": {
        "colab": {
          "base_uri": "https://localhost:8080/"
        },
        "id": "rX3fQgkEbsgV",
        "outputId": "67948d0b-4eab-4eec-9a29-83cb84b350ea"
      },
      "source": [
        "from google.colab import drive\n",
        "\n",
        "drive.mount(\"/content/drive\")"
      ],
      "execution_count": 3,
      "outputs": [
        {
          "output_type": "stream",
          "name": "stdout",
          "text": [
            "Mounted at /content/drive\n"
          ]
        }
      ]
    },
    {
      "cell_type": "code",
      "metadata": {
        "id": "jqj9FHmrcOzp"
      },
      "source": [
        "df = pd.read_csv(\"/content/drive/MyDrive/SonarDataset/sonar_dataset.csv\", header=None)"
      ],
      "execution_count": 15,
      "outputs": []
    },
    {
      "cell_type": "code",
      "metadata": {
        "id": "bq5r2GiHdF-3"
      },
      "source": [
        "import warnings\n",
        "warnings.filterwarnings(\"ignore\")"
      ],
      "execution_count": 16,
      "outputs": []
    },
    {
      "cell_type": "code",
      "metadata": {
        "colab": {
          "base_uri": "https://localhost:8080/",
          "height": 226
        },
        "id": "hCOjGVGrdT9V",
        "outputId": "1c618242-978d-4b48-efac-e5b7f8969e18"
      },
      "source": [
        "df.sample(5)"
      ],
      "execution_count": 17,
      "outputs": [
        {
          "output_type": "execute_result",
          "data": {
            "text/html": [
              "<div>\n",
              "<style scoped>\n",
              "    .dataframe tbody tr th:only-of-type {\n",
              "        vertical-align: middle;\n",
              "    }\n",
              "\n",
              "    .dataframe tbody tr th {\n",
              "        vertical-align: top;\n",
              "    }\n",
              "\n",
              "    .dataframe thead th {\n",
              "        text-align: right;\n",
              "    }\n",
              "</style>\n",
              "<table border=\"1\" class=\"dataframe\">\n",
              "  <thead>\n",
              "    <tr style=\"text-align: right;\">\n",
              "      <th></th>\n",
              "      <th>0</th>\n",
              "      <th>1</th>\n",
              "      <th>2</th>\n",
              "      <th>3</th>\n",
              "      <th>4</th>\n",
              "      <th>5</th>\n",
              "      <th>6</th>\n",
              "      <th>7</th>\n",
              "      <th>8</th>\n",
              "      <th>9</th>\n",
              "      <th>10</th>\n",
              "      <th>11</th>\n",
              "      <th>12</th>\n",
              "      <th>13</th>\n",
              "      <th>14</th>\n",
              "      <th>15</th>\n",
              "      <th>16</th>\n",
              "      <th>17</th>\n",
              "      <th>18</th>\n",
              "      <th>19</th>\n",
              "      <th>20</th>\n",
              "      <th>21</th>\n",
              "      <th>22</th>\n",
              "      <th>23</th>\n",
              "      <th>24</th>\n",
              "      <th>25</th>\n",
              "      <th>26</th>\n",
              "      <th>27</th>\n",
              "      <th>28</th>\n",
              "      <th>29</th>\n",
              "      <th>30</th>\n",
              "      <th>31</th>\n",
              "      <th>32</th>\n",
              "      <th>33</th>\n",
              "      <th>34</th>\n",
              "      <th>35</th>\n",
              "      <th>36</th>\n",
              "      <th>37</th>\n",
              "      <th>38</th>\n",
              "      <th>39</th>\n",
              "      <th>40</th>\n",
              "      <th>41</th>\n",
              "      <th>42</th>\n",
              "      <th>43</th>\n",
              "      <th>44</th>\n",
              "      <th>45</th>\n",
              "      <th>46</th>\n",
              "      <th>47</th>\n",
              "      <th>48</th>\n",
              "      <th>49</th>\n",
              "      <th>50</th>\n",
              "      <th>51</th>\n",
              "      <th>52</th>\n",
              "      <th>53</th>\n",
              "      <th>54</th>\n",
              "      <th>55</th>\n",
              "      <th>56</th>\n",
              "      <th>57</th>\n",
              "      <th>58</th>\n",
              "      <th>59</th>\n",
              "      <th>60</th>\n",
              "    </tr>\n",
              "  </thead>\n",
              "  <tbody>\n",
              "    <tr>\n",
              "      <th>115</th>\n",
              "      <td>0.0414</td>\n",
              "      <td>0.0436</td>\n",
              "      <td>0.0447</td>\n",
              "      <td>0.0844</td>\n",
              "      <td>0.0419</td>\n",
              "      <td>0.1215</td>\n",
              "      <td>0.2002</td>\n",
              "      <td>0.1516</td>\n",
              "      <td>0.0818</td>\n",
              "      <td>0.1975</td>\n",
              "      <td>0.2309</td>\n",
              "      <td>0.3025</td>\n",
              "      <td>0.3938</td>\n",
              "      <td>0.5050</td>\n",
              "      <td>0.5872</td>\n",
              "      <td>0.6610</td>\n",
              "      <td>0.7417</td>\n",
              "      <td>0.8006</td>\n",
              "      <td>0.8456</td>\n",
              "      <td>0.7939</td>\n",
              "      <td>0.8804</td>\n",
              "      <td>0.8384</td>\n",
              "      <td>0.7852</td>\n",
              "      <td>0.8479</td>\n",
              "      <td>0.7434</td>\n",
              "      <td>0.6433</td>\n",
              "      <td>0.5514</td>\n",
              "      <td>0.3519</td>\n",
              "      <td>0.3168</td>\n",
              "      <td>0.3346</td>\n",
              "      <td>0.2056</td>\n",
              "      <td>0.1032</td>\n",
              "      <td>0.3168</td>\n",
              "      <td>0.4040</td>\n",
              "      <td>0.4282</td>\n",
              "      <td>0.4538</td>\n",
              "      <td>0.3704</td>\n",
              "      <td>0.3741</td>\n",
              "      <td>0.3839</td>\n",
              "      <td>0.3494</td>\n",
              "      <td>0.4380</td>\n",
              "      <td>0.4265</td>\n",
              "      <td>0.2854</td>\n",
              "      <td>0.2808</td>\n",
              "      <td>0.2395</td>\n",
              "      <td>0.0369</td>\n",
              "      <td>0.0805</td>\n",
              "      <td>0.0541</td>\n",
              "      <td>0.0177</td>\n",
              "      <td>0.0065</td>\n",
              "      <td>0.0222</td>\n",
              "      <td>0.0045</td>\n",
              "      <td>0.0136</td>\n",
              "      <td>0.0113</td>\n",
              "      <td>0.0053</td>\n",
              "      <td>0.0165</td>\n",
              "      <td>0.0141</td>\n",
              "      <td>0.0077</td>\n",
              "      <td>0.0246</td>\n",
              "      <td>0.0198</td>\n",
              "      <td>M</td>\n",
              "    </tr>\n",
              "    <tr>\n",
              "      <th>202</th>\n",
              "      <td>0.0272</td>\n",
              "      <td>0.0378</td>\n",
              "      <td>0.0488</td>\n",
              "      <td>0.0848</td>\n",
              "      <td>0.1127</td>\n",
              "      <td>0.1103</td>\n",
              "      <td>0.1349</td>\n",
              "      <td>0.2337</td>\n",
              "      <td>0.3113</td>\n",
              "      <td>0.3997</td>\n",
              "      <td>0.3941</td>\n",
              "      <td>0.3309</td>\n",
              "      <td>0.2926</td>\n",
              "      <td>0.1760</td>\n",
              "      <td>0.1739</td>\n",
              "      <td>0.2043</td>\n",
              "      <td>0.2088</td>\n",
              "      <td>0.2678</td>\n",
              "      <td>0.2434</td>\n",
              "      <td>0.1839</td>\n",
              "      <td>0.2802</td>\n",
              "      <td>0.6172</td>\n",
              "      <td>0.8015</td>\n",
              "      <td>0.8313</td>\n",
              "      <td>0.8440</td>\n",
              "      <td>0.8494</td>\n",
              "      <td>0.9168</td>\n",
              "      <td>1.0000</td>\n",
              "      <td>0.7896</td>\n",
              "      <td>0.5371</td>\n",
              "      <td>0.6472</td>\n",
              "      <td>0.6505</td>\n",
              "      <td>0.4959</td>\n",
              "      <td>0.2175</td>\n",
              "      <td>0.0990</td>\n",
              "      <td>0.0434</td>\n",
              "      <td>0.1708</td>\n",
              "      <td>0.1979</td>\n",
              "      <td>0.1880</td>\n",
              "      <td>0.1108</td>\n",
              "      <td>0.1702</td>\n",
              "      <td>0.0585</td>\n",
              "      <td>0.0638</td>\n",
              "      <td>0.1391</td>\n",
              "      <td>0.0638</td>\n",
              "      <td>0.0581</td>\n",
              "      <td>0.0641</td>\n",
              "      <td>0.1044</td>\n",
              "      <td>0.0732</td>\n",
              "      <td>0.0275</td>\n",
              "      <td>0.0146</td>\n",
              "      <td>0.0091</td>\n",
              "      <td>0.0045</td>\n",
              "      <td>0.0043</td>\n",
              "      <td>0.0043</td>\n",
              "      <td>0.0098</td>\n",
              "      <td>0.0054</td>\n",
              "      <td>0.0051</td>\n",
              "      <td>0.0065</td>\n",
              "      <td>0.0103</td>\n",
              "      <td>M</td>\n",
              "    </tr>\n",
              "    <tr>\n",
              "      <th>136</th>\n",
              "      <td>0.1088</td>\n",
              "      <td>0.1278</td>\n",
              "      <td>0.0926</td>\n",
              "      <td>0.1234</td>\n",
              "      <td>0.1276</td>\n",
              "      <td>0.1731</td>\n",
              "      <td>0.1948</td>\n",
              "      <td>0.4262</td>\n",
              "      <td>0.6828</td>\n",
              "      <td>0.5761</td>\n",
              "      <td>0.4733</td>\n",
              "      <td>0.2362</td>\n",
              "      <td>0.1023</td>\n",
              "      <td>0.2904</td>\n",
              "      <td>0.4713</td>\n",
              "      <td>0.4659</td>\n",
              "      <td>0.1415</td>\n",
              "      <td>0.0849</td>\n",
              "      <td>0.3257</td>\n",
              "      <td>0.9007</td>\n",
              "      <td>0.9312</td>\n",
              "      <td>0.4856</td>\n",
              "      <td>0.1346</td>\n",
              "      <td>0.1604</td>\n",
              "      <td>0.2737</td>\n",
              "      <td>0.5609</td>\n",
              "      <td>0.3654</td>\n",
              "      <td>0.6139</td>\n",
              "      <td>0.5470</td>\n",
              "      <td>0.8474</td>\n",
              "      <td>0.5638</td>\n",
              "      <td>0.5443</td>\n",
              "      <td>0.5086</td>\n",
              "      <td>0.6253</td>\n",
              "      <td>0.8497</td>\n",
              "      <td>0.8406</td>\n",
              "      <td>0.8420</td>\n",
              "      <td>0.9136</td>\n",
              "      <td>0.7713</td>\n",
              "      <td>0.4882</td>\n",
              "      <td>0.3724</td>\n",
              "      <td>0.4469</td>\n",
              "      <td>0.4586</td>\n",
              "      <td>0.4491</td>\n",
              "      <td>0.5616</td>\n",
              "      <td>0.4305</td>\n",
              "      <td>0.0945</td>\n",
              "      <td>0.0794</td>\n",
              "      <td>0.0274</td>\n",
              "      <td>0.0154</td>\n",
              "      <td>0.0140</td>\n",
              "      <td>0.0455</td>\n",
              "      <td>0.0213</td>\n",
              "      <td>0.0082</td>\n",
              "      <td>0.0124</td>\n",
              "      <td>0.0167</td>\n",
              "      <td>0.0103</td>\n",
              "      <td>0.0205</td>\n",
              "      <td>0.0178</td>\n",
              "      <td>0.0187</td>\n",
              "      <td>M</td>\n",
              "    </tr>\n",
              "    <tr>\n",
              "      <th>16</th>\n",
              "      <td>0.0352</td>\n",
              "      <td>0.0116</td>\n",
              "      <td>0.0191</td>\n",
              "      <td>0.0469</td>\n",
              "      <td>0.0737</td>\n",
              "      <td>0.1185</td>\n",
              "      <td>0.1683</td>\n",
              "      <td>0.1541</td>\n",
              "      <td>0.1466</td>\n",
              "      <td>0.2912</td>\n",
              "      <td>0.2328</td>\n",
              "      <td>0.2237</td>\n",
              "      <td>0.2470</td>\n",
              "      <td>0.1560</td>\n",
              "      <td>0.3491</td>\n",
              "      <td>0.3308</td>\n",
              "      <td>0.2299</td>\n",
              "      <td>0.2203</td>\n",
              "      <td>0.2493</td>\n",
              "      <td>0.4128</td>\n",
              "      <td>0.3158</td>\n",
              "      <td>0.6191</td>\n",
              "      <td>0.5854</td>\n",
              "      <td>0.3395</td>\n",
              "      <td>0.2561</td>\n",
              "      <td>0.5599</td>\n",
              "      <td>0.8145</td>\n",
              "      <td>0.6941</td>\n",
              "      <td>0.6985</td>\n",
              "      <td>0.8660</td>\n",
              "      <td>0.5930</td>\n",
              "      <td>0.3664</td>\n",
              "      <td>0.6750</td>\n",
              "      <td>0.8697</td>\n",
              "      <td>0.7837</td>\n",
              "      <td>0.7552</td>\n",
              "      <td>0.5789</td>\n",
              "      <td>0.4713</td>\n",
              "      <td>0.1252</td>\n",
              "      <td>0.6087</td>\n",
              "      <td>0.7322</td>\n",
              "      <td>0.5977</td>\n",
              "      <td>0.3431</td>\n",
              "      <td>0.1803</td>\n",
              "      <td>0.2378</td>\n",
              "      <td>0.3424</td>\n",
              "      <td>0.2303</td>\n",
              "      <td>0.0689</td>\n",
              "      <td>0.0216</td>\n",
              "      <td>0.0469</td>\n",
              "      <td>0.0426</td>\n",
              "      <td>0.0346</td>\n",
              "      <td>0.0158</td>\n",
              "      <td>0.0154</td>\n",
              "      <td>0.0109</td>\n",
              "      <td>0.0048</td>\n",
              "      <td>0.0095</td>\n",
              "      <td>0.0015</td>\n",
              "      <td>0.0073</td>\n",
              "      <td>0.0067</td>\n",
              "      <td>R</td>\n",
              "    </tr>\n",
              "    <tr>\n",
              "      <th>167</th>\n",
              "      <td>0.0137</td>\n",
              "      <td>0.0297</td>\n",
              "      <td>0.0116</td>\n",
              "      <td>0.0082</td>\n",
              "      <td>0.0241</td>\n",
              "      <td>0.0253</td>\n",
              "      <td>0.0279</td>\n",
              "      <td>0.0130</td>\n",
              "      <td>0.0489</td>\n",
              "      <td>0.0874</td>\n",
              "      <td>0.1100</td>\n",
              "      <td>0.1084</td>\n",
              "      <td>0.1094</td>\n",
              "      <td>0.1023</td>\n",
              "      <td>0.0601</td>\n",
              "      <td>0.0906</td>\n",
              "      <td>0.1313</td>\n",
              "      <td>0.2758</td>\n",
              "      <td>0.3660</td>\n",
              "      <td>0.5269</td>\n",
              "      <td>0.5810</td>\n",
              "      <td>0.6181</td>\n",
              "      <td>0.5875</td>\n",
              "      <td>0.4639</td>\n",
              "      <td>0.5424</td>\n",
              "      <td>0.7367</td>\n",
              "      <td>0.9089</td>\n",
              "      <td>1.0000</td>\n",
              "      <td>0.8247</td>\n",
              "      <td>0.5441</td>\n",
              "      <td>0.3349</td>\n",
              "      <td>0.0877</td>\n",
              "      <td>0.1600</td>\n",
              "      <td>0.4169</td>\n",
              "      <td>0.6576</td>\n",
              "      <td>0.7390</td>\n",
              "      <td>0.7963</td>\n",
              "      <td>0.7493</td>\n",
              "      <td>0.6795</td>\n",
              "      <td>0.4713</td>\n",
              "      <td>0.2355</td>\n",
              "      <td>0.1704</td>\n",
              "      <td>0.2728</td>\n",
              "      <td>0.4016</td>\n",
              "      <td>0.4125</td>\n",
              "      <td>0.3470</td>\n",
              "      <td>0.2739</td>\n",
              "      <td>0.1790</td>\n",
              "      <td>0.0922</td>\n",
              "      <td>0.0276</td>\n",
              "      <td>0.0169</td>\n",
              "      <td>0.0081</td>\n",
              "      <td>0.0040</td>\n",
              "      <td>0.0025</td>\n",
              "      <td>0.0036</td>\n",
              "      <td>0.0058</td>\n",
              "      <td>0.0067</td>\n",
              "      <td>0.0035</td>\n",
              "      <td>0.0043</td>\n",
              "      <td>0.0033</td>\n",
              "      <td>M</td>\n",
              "    </tr>\n",
              "  </tbody>\n",
              "</table>\n",
              "</div>"
            ],
            "text/plain": [
              "         0       1       2       3       4   ...      56      57      58      59  60\n",
              "115  0.0414  0.0436  0.0447  0.0844  0.0419  ...  0.0141  0.0077  0.0246  0.0198   M\n",
              "202  0.0272  0.0378  0.0488  0.0848  0.1127  ...  0.0054  0.0051  0.0065  0.0103   M\n",
              "136  0.1088  0.1278  0.0926  0.1234  0.1276  ...  0.0103  0.0205  0.0178  0.0187   M\n",
              "16   0.0352  0.0116  0.0191  0.0469  0.0737  ...  0.0095  0.0015  0.0073  0.0067   R\n",
              "167  0.0137  0.0297  0.0116  0.0082  0.0241  ...  0.0067  0.0035  0.0043  0.0033   M\n",
              "\n",
              "[5 rows x 61 columns]"
            ]
          },
          "metadata": {},
          "execution_count": 17
        }
      ]
    },
    {
      "cell_type": "markdown",
      "metadata": {
        "id": "2yNaukRYdvKl"
      },
      "source": [
        "DATA EXPLORATION"
      ]
    },
    {
      "cell_type": "code",
      "metadata": {
        "colab": {
          "base_uri": "https://localhost:8080/"
        },
        "id": "on0qSVnjdzYz",
        "outputId": "47435bf4-c821-402c-bbd4-509dd8826e15"
      },
      "source": [
        "#Knowing the dimensions of the data\n",
        "df.shape"
      ],
      "execution_count": 18,
      "outputs": [
        {
          "output_type": "execute_result",
          "data": {
            "text/plain": [
              "(208, 61)"
            ]
          },
          "metadata": {},
          "execution_count": 18
        }
      ]
    },
    {
      "cell_type": "code",
      "metadata": {
        "colab": {
          "base_uri": "https://localhost:8080/"
        },
        "id": "Mi0N8VDrd39N",
        "outputId": "151d8aa7-79b5-43da-a2c8-0c2cfb5f9590"
      },
      "source": [
        "#Checking for empty columns\n",
        "df.isnull().sum()"
      ],
      "execution_count": 19,
      "outputs": [
        {
          "output_type": "execute_result",
          "data": {
            "text/plain": [
              "0     0\n",
              "1     0\n",
              "2     0\n",
              "3     0\n",
              "4     0\n",
              "     ..\n",
              "56    0\n",
              "57    0\n",
              "58    0\n",
              "59    0\n",
              "60    0\n",
              "Length: 61, dtype: int64"
            ]
          },
          "metadata": {},
          "execution_count": 19
        }
      ]
    },
    {
      "cell_type": "code",
      "metadata": {
        "colab": {
          "base_uri": "https://localhost:8080/"
        },
        "id": "Yq5wO03hd_hb",
        "outputId": "28e9fadf-faf3-4da1-af40-6b27b9696771"
      },
      "source": [
        "#Checking all the columns available in the data\n",
        "df.columns"
      ],
      "execution_count": 20,
      "outputs": [
        {
          "output_type": "execute_result",
          "data": {
            "text/plain": [
              "Int64Index([ 0,  1,  2,  3,  4,  5,  6,  7,  8,  9, 10, 11, 12, 13, 14, 15, 16,\n",
              "            17, 18, 19, 20, 21, 22, 23, 24, 25, 26, 27, 28, 29, 30, 31, 32, 33,\n",
              "            34, 35, 36, 37, 38, 39, 40, 41, 42, 43, 44, 45, 46, 47, 48, 49, 50,\n",
              "            51, 52, 53, 54, 55, 56, 57, 58, 59, 60],\n",
              "           dtype='int64')"
            ]
          },
          "metadata": {},
          "execution_count": 20
        }
      ]
    },
    {
      "cell_type": "code",
      "metadata": {
        "colab": {
          "base_uri": "https://localhost:8080/"
        },
        "id": "Ya1xLW5jfC3_",
        "outputId": "78580d49-1b68-4c64-d739-09866f38f3e8"
      },
      "source": [
        "#Counting the unique values of the target column\n",
        "df[60].value_counts()"
      ],
      "execution_count": 21,
      "outputs": [
        {
          "output_type": "execute_result",
          "data": {
            "text/plain": [
              "M    111\n",
              "R     97\n",
              "Name: 60, dtype: int64"
            ]
          },
          "metadata": {},
          "execution_count": 21
        }
      ]
    },
    {
      "cell_type": "code",
      "metadata": {
        "colab": {
          "base_uri": "https://localhost:8080/"
        },
        "id": "NfAvb_91ghNe",
        "outputId": "296d81e1-8ed5-4849-ea00-be8ec66bd8a8"
      },
      "source": [
        "#Creating X and Y for analysis\n",
        "X = df.drop(60, axis=1)\n",
        "y = df[60]\n",
        "y.head()"
      ],
      "execution_count": 22,
      "outputs": [
        {
          "output_type": "execute_result",
          "data": {
            "text/plain": [
              "0    R\n",
              "1    R\n",
              "2    R\n",
              "3    R\n",
              "4    R\n",
              "Name: 60, dtype: object"
            ]
          },
          "metadata": {},
          "execution_count": 22
        }
      ]
    },
    {
      "cell_type": "code",
      "metadata": {
        "colab": {
          "base_uri": "https://localhost:8080/",
          "height": 206
        },
        "id": "P1f9adtdhfGc",
        "outputId": "363f5802-6d90-47ab-dcd9-0b966d39607e"
      },
      "source": [
        "#Converting Y into 0 and 1\n",
        "y = pd.get_dummies(y, drop_first=True)\n",
        "y.sample(5) # R -- > 1 and M -- > 0"
      ],
      "execution_count": 23,
      "outputs": [
        {
          "output_type": "execute_result",
          "data": {
            "text/html": [
              "<div>\n",
              "<style scoped>\n",
              "    .dataframe tbody tr th:only-of-type {\n",
              "        vertical-align: middle;\n",
              "    }\n",
              "\n",
              "    .dataframe tbody tr th {\n",
              "        vertical-align: top;\n",
              "    }\n",
              "\n",
              "    .dataframe thead th {\n",
              "        text-align: right;\n",
              "    }\n",
              "</style>\n",
              "<table border=\"1\" class=\"dataframe\">\n",
              "  <thead>\n",
              "    <tr style=\"text-align: right;\">\n",
              "      <th></th>\n",
              "      <th>R</th>\n",
              "    </tr>\n",
              "  </thead>\n",
              "  <tbody>\n",
              "    <tr>\n",
              "      <th>38</th>\n",
              "      <td>1</td>\n",
              "    </tr>\n",
              "    <tr>\n",
              "      <th>69</th>\n",
              "      <td>1</td>\n",
              "    </tr>\n",
              "    <tr>\n",
              "      <th>90</th>\n",
              "      <td>1</td>\n",
              "    </tr>\n",
              "    <tr>\n",
              "      <th>141</th>\n",
              "      <td>0</td>\n",
              "    </tr>\n",
              "    <tr>\n",
              "      <th>194</th>\n",
              "      <td>0</td>\n",
              "    </tr>\n",
              "  </tbody>\n",
              "</table>\n",
              "</div>"
            ],
            "text/plain": [
              "     R\n",
              "38   1\n",
              "69   1\n",
              "90   1\n",
              "141  0\n",
              "194  0"
            ]
          },
          "metadata": {},
          "execution_count": 23
        }
      ]
    },
    {
      "cell_type": "code",
      "metadata": {
        "colab": {
          "base_uri": "https://localhost:8080/"
        },
        "id": "QjpmCeRbiI8h",
        "outputId": "a472c8d9-6dff-41ae-a7d2-c72487dd4206"
      },
      "source": [
        "y.value_counts()"
      ],
      "execution_count": 24,
      "outputs": [
        {
          "output_type": "execute_result",
          "data": {
            "text/plain": [
              "R\n",
              "0    111\n",
              "1     97\n",
              "dtype: int64"
            ]
          },
          "metadata": {},
          "execution_count": 24
        }
      ]
    },
    {
      "cell_type": "code",
      "metadata": {
        "id": "zhgLvtjWiLMl"
      },
      "source": [
        "#Splitting data into train and test datasets\n",
        "from sklearn.model_selection import train_test_split\n",
        "X_train, X_test, y_train, y_test = train_test_split(X, y, test_size=0.25, random_state=1)"
      ],
      "execution_count": 29,
      "outputs": []
    },
    {
      "cell_type": "code",
      "metadata": {
        "colab": {
          "base_uri": "https://localhost:8080/"
        },
        "id": "hCXE_66wi8w1",
        "outputId": "cc3f8e5d-9cb8-418c-df48-7e4b0231ae80"
      },
      "source": [
        "X_train.shape, X_test.shape"
      ],
      "execution_count": 28,
      "outputs": [
        {
          "output_type": "execute_result",
          "data": {
            "text/plain": [
              "((156, 60), (52, 60))"
            ]
          },
          "metadata": {},
          "execution_count": 28
        }
      ]
    },
    {
      "cell_type": "markdown",
      "metadata": {
        "id": "bKb3bO7ejNl-"
      },
      "source": [
        "BUILDING THE MODEL"
      ]
    },
    {
      "cell_type": "code",
      "metadata": {
        "id": "dNocoKayjMQr"
      },
      "source": [
        "#importing the needed libraries\n",
        "import tensorflow as tf\n",
        "from tensorflow import keras"
      ],
      "execution_count": 30,
      "outputs": []
    },
    {
      "cell_type": "code",
      "metadata": {
        "colab": {
          "base_uri": "https://localhost:8080/"
        },
        "id": "ZAmHMhwWjyLa",
        "outputId": "ec49f7a8-3714-4154-d686-8c5ba95b1572"
      },
      "source": [
        "#Building Model and Intentionally overfitting\n",
        "model = keras.Sequential([\n",
        "                          keras.layers.Dense(60, input_dim=60, activation=\"relu\"),\n",
        "                          keras.layers.Dense(30, activation=\"relu\"),\n",
        "                          keras.layers.Dense(15, activation=\"relu\"),\n",
        "                          keras.layers.Dense(1, activation=\"sigmoid\")\n",
        "])\n",
        "\n",
        "model.compile(loss=\"binary_crossentropy\", optimizer=\"adam\", metrics=[\"accuracy\"])\n",
        "\n",
        "model.fit(X_train, y_train, epochs=100, batch_size=8)"
      ],
      "execution_count": 34,
      "outputs": [
        {
          "output_type": "stream",
          "name": "stdout",
          "text": [
            "Epoch 1/100\n",
            "20/20 [==============================] - 1s 2ms/step - loss: 0.7005 - accuracy: 0.4551\n",
            "Epoch 2/100\n",
            "20/20 [==============================] - 0s 1ms/step - loss: 0.6474 - accuracy: 0.6538\n",
            "Epoch 3/100\n",
            "20/20 [==============================] - 0s 1ms/step - loss: 0.6122 - accuracy: 0.6603\n",
            "Epoch 4/100\n",
            "20/20 [==============================] - 0s 1ms/step - loss: 0.5965 - accuracy: 0.7308\n",
            "Epoch 5/100\n",
            "20/20 [==============================] - 0s 1ms/step - loss: 0.5488 - accuracy: 0.8013\n",
            "Epoch 6/100\n",
            "20/20 [==============================] - 0s 1ms/step - loss: 0.5051 - accuracy: 0.8526\n",
            "Epoch 7/100\n",
            "20/20 [==============================] - 0s 2ms/step - loss: 0.4729 - accuracy: 0.8462\n",
            "Epoch 8/100\n",
            "20/20 [==============================] - 0s 2ms/step - loss: 0.4501 - accuracy: 0.8269\n",
            "Epoch 9/100\n",
            "20/20 [==============================] - 0s 1ms/step - loss: 0.4254 - accuracy: 0.8269\n",
            "Epoch 10/100\n",
            "20/20 [==============================] - 0s 1ms/step - loss: 0.4165 - accuracy: 0.8590\n",
            "Epoch 11/100\n",
            "20/20 [==============================] - 0s 1ms/step - loss: 0.3740 - accuracy: 0.8782\n",
            "Epoch 12/100\n",
            "20/20 [==============================] - 0s 1ms/step - loss: 0.3562 - accuracy: 0.8910\n",
            "Epoch 13/100\n",
            "20/20 [==============================] - 0s 1ms/step - loss: 0.3540 - accuracy: 0.8782\n",
            "Epoch 14/100\n",
            "20/20 [==============================] - 0s 1ms/step - loss: 0.3613 - accuracy: 0.8397\n",
            "Epoch 15/100\n",
            "20/20 [==============================] - 0s 2ms/step - loss: 0.3069 - accuracy: 0.8910\n",
            "Epoch 16/100\n",
            "20/20 [==============================] - 0s 2ms/step - loss: 0.3177 - accuracy: 0.8590\n",
            "Epoch 17/100\n",
            "20/20 [==============================] - 0s 2ms/step - loss: 0.3007 - accuracy: 0.8910\n",
            "Epoch 18/100\n",
            "20/20 [==============================] - 0s 1ms/step - loss: 0.2796 - accuracy: 0.8974\n",
            "Epoch 19/100\n",
            "20/20 [==============================] - 0s 1ms/step - loss: 0.2622 - accuracy: 0.9295\n",
            "Epoch 20/100\n",
            "20/20 [==============================] - 0s 1ms/step - loss: 0.2431 - accuracy: 0.9295\n",
            "Epoch 21/100\n",
            "20/20 [==============================] - 0s 2ms/step - loss: 0.2262 - accuracy: 0.9423\n",
            "Epoch 22/100\n",
            "20/20 [==============================] - 0s 1ms/step - loss: 0.2188 - accuracy: 0.9359\n",
            "Epoch 23/100\n",
            "20/20 [==============================] - 0s 1ms/step - loss: 0.2013 - accuracy: 0.9423\n",
            "Epoch 24/100\n",
            "20/20 [==============================] - 0s 2ms/step - loss: 0.1931 - accuracy: 0.9487\n",
            "Epoch 25/100\n",
            "20/20 [==============================] - 0s 1ms/step - loss: 0.1949 - accuracy: 0.9423\n",
            "Epoch 26/100\n",
            "20/20 [==============================] - 0s 1ms/step - loss: 0.1635 - accuracy: 0.9487\n",
            "Epoch 27/100\n",
            "20/20 [==============================] - 0s 2ms/step - loss: 0.1701 - accuracy: 0.9295\n",
            "Epoch 28/100\n",
            "20/20 [==============================] - 0s 1ms/step - loss: 0.1463 - accuracy: 0.9551\n",
            "Epoch 29/100\n",
            "20/20 [==============================] - 0s 1ms/step - loss: 0.1331 - accuracy: 0.9615\n",
            "Epoch 30/100\n",
            "20/20 [==============================] - 0s 1ms/step - loss: 0.1297 - accuracy: 0.9808\n",
            "Epoch 31/100\n",
            "20/20 [==============================] - 0s 1ms/step - loss: 0.1297 - accuracy: 0.9551\n",
            "Epoch 32/100\n",
            "20/20 [==============================] - 0s 2ms/step - loss: 0.1054 - accuracy: 0.9615\n",
            "Epoch 33/100\n",
            "20/20 [==============================] - 0s 2ms/step - loss: 0.1189 - accuracy: 0.9551\n",
            "Epoch 34/100\n",
            "20/20 [==============================] - 0s 2ms/step - loss: 0.0994 - accuracy: 0.9872\n",
            "Epoch 35/100\n",
            "20/20 [==============================] - 0s 1ms/step - loss: 0.0885 - accuracy: 0.9744\n",
            "Epoch 36/100\n",
            "20/20 [==============================] - 0s 1ms/step - loss: 0.0709 - accuracy: 0.9936\n",
            "Epoch 37/100\n",
            "20/20 [==============================] - 0s 2ms/step - loss: 0.0684 - accuracy: 0.9808\n",
            "Epoch 38/100\n",
            "20/20 [==============================] - 0s 1ms/step - loss: 0.0603 - accuracy: 0.9936\n",
            "Epoch 39/100\n",
            "20/20 [==============================] - 0s 1ms/step - loss: 0.0466 - accuracy: 1.0000\n",
            "Epoch 40/100\n",
            "20/20 [==============================] - 0s 1ms/step - loss: 0.0448 - accuracy: 1.0000\n",
            "Epoch 41/100\n",
            "20/20 [==============================] - 0s 2ms/step - loss: 0.0455 - accuracy: 0.9936\n",
            "Epoch 42/100\n",
            "20/20 [==============================] - 0s 1ms/step - loss: 0.0367 - accuracy: 1.0000\n",
            "Epoch 43/100\n",
            "20/20 [==============================] - 0s 1ms/step - loss: 0.0340 - accuracy: 1.0000\n",
            "Epoch 44/100\n",
            "20/20 [==============================] - 0s 2ms/step - loss: 0.0379 - accuracy: 1.0000\n",
            "Epoch 45/100\n",
            "20/20 [==============================] - 0s 1ms/step - loss: 0.0314 - accuracy: 1.0000\n",
            "Epoch 46/100\n",
            "20/20 [==============================] - 0s 1ms/step - loss: 0.0345 - accuracy: 1.0000\n",
            "Epoch 47/100\n",
            "20/20 [==============================] - 0s 1ms/step - loss: 0.0278 - accuracy: 1.0000\n",
            "Epoch 48/100\n",
            "20/20 [==============================] - 0s 1ms/step - loss: 0.0266 - accuracy: 1.0000\n",
            "Epoch 49/100\n",
            "20/20 [==============================] - 0s 1ms/step - loss: 0.0236 - accuracy: 1.0000\n",
            "Epoch 50/100\n",
            "20/20 [==============================] - 0s 1ms/step - loss: 0.0202 - accuracy: 1.0000\n",
            "Epoch 51/100\n",
            "20/20 [==============================] - 0s 1ms/step - loss: 0.0168 - accuracy: 1.0000\n",
            "Epoch 52/100\n",
            "20/20 [==============================] - 0s 1ms/step - loss: 0.0155 - accuracy: 1.0000\n",
            "Epoch 53/100\n",
            "20/20 [==============================] - 0s 2ms/step - loss: 0.0133 - accuracy: 1.0000\n",
            "Epoch 54/100\n",
            "20/20 [==============================] - 0s 1ms/step - loss: 0.0154 - accuracy: 1.0000\n",
            "Epoch 55/100\n",
            "20/20 [==============================] - 0s 1ms/step - loss: 0.0138 - accuracy: 1.0000\n",
            "Epoch 56/100\n",
            "20/20 [==============================] - 0s 2ms/step - loss: 0.0117 - accuracy: 1.0000\n",
            "Epoch 57/100\n",
            "20/20 [==============================] - 0s 1ms/step - loss: 0.0107 - accuracy: 1.0000\n",
            "Epoch 58/100\n",
            "20/20 [==============================] - 0s 2ms/step - loss: 0.0127 - accuracy: 1.0000\n",
            "Epoch 59/100\n",
            "20/20 [==============================] - 0s 1ms/step - loss: 0.0298 - accuracy: 0.9936\n",
            "Epoch 60/100\n",
            "20/20 [==============================] - 0s 1ms/step - loss: 0.0214 - accuracy: 0.9936\n",
            "Epoch 61/100\n",
            "20/20 [==============================] - 0s 2ms/step - loss: 0.0151 - accuracy: 1.0000\n",
            "Epoch 62/100\n",
            "20/20 [==============================] - 0s 1ms/step - loss: 0.0147 - accuracy: 1.0000\n",
            "Epoch 63/100\n",
            "20/20 [==============================] - 0s 1ms/step - loss: 0.0093 - accuracy: 1.0000\n",
            "Epoch 64/100\n",
            "20/20 [==============================] - 0s 1ms/step - loss: 0.0067 - accuracy: 1.0000\n",
            "Epoch 65/100\n",
            "20/20 [==============================] - 0s 1ms/step - loss: 0.0060 - accuracy: 1.0000\n",
            "Epoch 66/100\n",
            "20/20 [==============================] - 0s 1ms/step - loss: 0.0069 - accuracy: 1.0000\n",
            "Epoch 67/100\n",
            "20/20 [==============================] - 0s 1ms/step - loss: 0.0056 - accuracy: 1.0000\n",
            "Epoch 68/100\n",
            "20/20 [==============================] - 0s 1ms/step - loss: 0.0055 - accuracy: 1.0000\n",
            "Epoch 69/100\n",
            "20/20 [==============================] - 0s 1ms/step - loss: 0.0052 - accuracy: 1.0000\n",
            "Epoch 70/100\n",
            "20/20 [==============================] - 0s 2ms/step - loss: 0.0049 - accuracy: 1.0000\n",
            "Epoch 71/100\n",
            "20/20 [==============================] - 0s 1ms/step - loss: 0.0053 - accuracy: 1.0000\n",
            "Epoch 72/100\n",
            "20/20 [==============================] - 0s 1ms/step - loss: 0.0039 - accuracy: 1.0000\n",
            "Epoch 73/100\n",
            "20/20 [==============================] - 0s 2ms/step - loss: 0.0046 - accuracy: 1.0000\n",
            "Epoch 74/100\n",
            "20/20 [==============================] - 0s 2ms/step - loss: 0.0038 - accuracy: 1.0000\n",
            "Epoch 75/100\n",
            "20/20 [==============================] - 0s 2ms/step - loss: 0.0042 - accuracy: 1.0000\n",
            "Epoch 76/100\n",
            "20/20 [==============================] - 0s 2ms/step - loss: 0.0036 - accuracy: 1.0000\n",
            "Epoch 77/100\n",
            "20/20 [==============================] - 0s 2ms/step - loss: 0.0034 - accuracy: 1.0000\n",
            "Epoch 78/100\n",
            "20/20 [==============================] - 0s 1ms/step - loss: 0.0031 - accuracy: 1.0000\n",
            "Epoch 79/100\n",
            "20/20 [==============================] - 0s 1ms/step - loss: 0.0030 - accuracy: 1.0000\n",
            "Epoch 80/100\n",
            "20/20 [==============================] - 0s 1ms/step - loss: 0.0029 - accuracy: 1.0000\n",
            "Epoch 81/100\n",
            "20/20 [==============================] - 0s 1ms/step - loss: 0.0028 - accuracy: 1.0000\n",
            "Epoch 82/100\n",
            "20/20 [==============================] - 0s 1ms/step - loss: 0.0027 - accuracy: 1.0000\n",
            "Epoch 83/100\n",
            "20/20 [==============================] - 0s 1ms/step - loss: 0.0027 - accuracy: 1.0000\n",
            "Epoch 84/100\n",
            "20/20 [==============================] - 0s 1ms/step - loss: 0.0028 - accuracy: 1.0000\n",
            "Epoch 85/100\n",
            "20/20 [==============================] - 0s 1ms/step - loss: 0.0028 - accuracy: 1.0000\n",
            "Epoch 86/100\n",
            "20/20 [==============================] - 0s 1ms/step - loss: 0.0024 - accuracy: 1.0000\n",
            "Epoch 87/100\n",
            "20/20 [==============================] - 0s 2ms/step - loss: 0.0025 - accuracy: 1.0000\n",
            "Epoch 88/100\n",
            "20/20 [==============================] - 0s 2ms/step - loss: 0.0021 - accuracy: 1.0000\n",
            "Epoch 89/100\n",
            "20/20 [==============================] - 0s 1ms/step - loss: 0.0021 - accuracy: 1.0000\n",
            "Epoch 90/100\n",
            "20/20 [==============================] - 0s 2ms/step - loss: 0.0020 - accuracy: 1.0000\n",
            "Epoch 91/100\n",
            "20/20 [==============================] - 0s 1ms/step - loss: 0.0026 - accuracy: 1.0000\n",
            "Epoch 92/100\n",
            "20/20 [==============================] - 0s 1ms/step - loss: 0.0021 - accuracy: 1.0000\n",
            "Epoch 93/100\n",
            "20/20 [==============================] - 0s 1ms/step - loss: 0.0018 - accuracy: 1.0000\n",
            "Epoch 94/100\n",
            "20/20 [==============================] - 0s 2ms/step - loss: 0.0018 - accuracy: 1.0000\n",
            "Epoch 95/100\n",
            "20/20 [==============================] - 0s 1ms/step - loss: 0.0017 - accuracy: 1.0000\n",
            "Epoch 96/100\n",
            "20/20 [==============================] - 0s 1ms/step - loss: 0.0017 - accuracy: 1.0000\n",
            "Epoch 97/100\n",
            "20/20 [==============================] - 0s 1ms/step - loss: 0.0016 - accuracy: 1.0000\n",
            "Epoch 98/100\n",
            "20/20 [==============================] - 0s 1ms/step - loss: 0.0015 - accuracy: 1.0000\n",
            "Epoch 99/100\n",
            "20/20 [==============================] - 0s 1ms/step - loss: 0.0016 - accuracy: 1.0000\n",
            "Epoch 100/100\n",
            "20/20 [==============================] - 0s 1ms/step - loss: 0.0014 - accuracy: 1.0000\n"
          ]
        },
        {
          "output_type": "execute_result",
          "data": {
            "text/plain": [
              "<keras.callbacks.History at 0x7fe3fb19a4d0>"
            ]
          },
          "metadata": {},
          "execution_count": 34
        }
      ]
    },
    {
      "cell_type": "code",
      "metadata": {
        "colab": {
          "base_uri": "https://localhost:8080/"
        },
        "id": "2TO7aFanlmL6",
        "outputId": "eaa80bcd-3a9b-4109-8e68-97ad048a348f"
      },
      "source": [
        "#Checking Model Accuracy\n",
        "model.evaluate(X_test, y_test)"
      ],
      "execution_count": 35,
      "outputs": [
        {
          "output_type": "stream",
          "name": "stdout",
          "text": [
            "2/2 [==============================] - 0s 6ms/step - loss: 1.0359 - accuracy: 0.7308\n"
          ]
        },
        {
          "output_type": "execute_result",
          "data": {
            "text/plain": [
              "[1.0358936786651611, 0.7307692170143127]"
            ]
          },
          "metadata": {},
          "execution_count": 35
        }
      ]
    },
    {
      "cell_type": "code",
      "metadata": {
        "colab": {
          "base_uri": "https://localhost:8080/"
        },
        "id": "BeWXMSZ3mkgd",
        "outputId": "6e9cf89f-f3bc-43af-fe68-c0812662a982"
      },
      "source": [
        "#Making some predictions with the model to see how it goes\n",
        "y_pred = model.predict(X_test).reshape(-1)\n",
        "print(y_pred[:10])\n",
        "\n",
        "#round the values to nearest integer in 0 or 1\n",
        "y_pred = np.round(y_pred)\n",
        "print(y_pred[:10])\n"
      ],
      "execution_count": 36,
      "outputs": [
        {
          "output_type": "stream",
          "name": "stdout",
          "text": [
            "[1.1134779e-08 9.9898750e-01 9.9799597e-01 7.4300387e-06 9.9999952e-01\n",
            " 9.9998486e-01 4.2815313e-01 1.0000000e+00 3.1119127e-06 1.0000000e+00]\n",
            "[0. 1. 1. 0. 1. 1. 0. 1. 0. 1.]\n"
          ]
        }
      ]
    },
    {
      "cell_type": "code",
      "metadata": {
        "colab": {
          "base_uri": "https://localhost:8080/",
          "height": 363
        },
        "id": "LSqLhcuCn2PM",
        "outputId": "cf7bf96e-11d5-4af2-b9dc-c3fcb82c80e7"
      },
      "source": [
        "y_test[:10]"
      ],
      "execution_count": 37,
      "outputs": [
        {
          "output_type": "execute_result",
          "data": {
            "text/html": [
              "<div>\n",
              "<style scoped>\n",
              "    .dataframe tbody tr th:only-of-type {\n",
              "        vertical-align: middle;\n",
              "    }\n",
              "\n",
              "    .dataframe tbody tr th {\n",
              "        vertical-align: top;\n",
              "    }\n",
              "\n",
              "    .dataframe thead th {\n",
              "        text-align: right;\n",
              "    }\n",
              "</style>\n",
              "<table border=\"1\" class=\"dataframe\">\n",
              "  <thead>\n",
              "    <tr style=\"text-align: right;\">\n",
              "      <th></th>\n",
              "      <th>R</th>\n",
              "    </tr>\n",
              "  </thead>\n",
              "  <tbody>\n",
              "    <tr>\n",
              "      <th>186</th>\n",
              "      <td>0</td>\n",
              "    </tr>\n",
              "    <tr>\n",
              "      <th>155</th>\n",
              "      <td>0</td>\n",
              "    </tr>\n",
              "    <tr>\n",
              "      <th>165</th>\n",
              "      <td>0</td>\n",
              "    </tr>\n",
              "    <tr>\n",
              "      <th>200</th>\n",
              "      <td>0</td>\n",
              "    </tr>\n",
              "    <tr>\n",
              "      <th>58</th>\n",
              "      <td>1</td>\n",
              "    </tr>\n",
              "    <tr>\n",
              "      <th>34</th>\n",
              "      <td>1</td>\n",
              "    </tr>\n",
              "    <tr>\n",
              "      <th>151</th>\n",
              "      <td>0</td>\n",
              "    </tr>\n",
              "    <tr>\n",
              "      <th>18</th>\n",
              "      <td>1</td>\n",
              "    </tr>\n",
              "    <tr>\n",
              "      <th>202</th>\n",
              "      <td>0</td>\n",
              "    </tr>\n",
              "    <tr>\n",
              "      <th>62</th>\n",
              "      <td>1</td>\n",
              "    </tr>\n",
              "  </tbody>\n",
              "</table>\n",
              "</div>"
            ],
            "text/plain": [
              "     R\n",
              "186  0\n",
              "155  0\n",
              "165  0\n",
              "200  0\n",
              "58   1\n",
              "34   1\n",
              "151  0\n",
              "18   1\n",
              "202  0\n",
              "62   1"
            ]
          },
          "metadata": {},
          "execution_count": 37
        }
      ]
    },
    {
      "cell_type": "code",
      "metadata": {
        "colab": {
          "base_uri": "https://localhost:8080/"
        },
        "id": "iaQ5w2jqn-Vm",
        "outputId": "3ede5974-5989-4098-9c18-c1e771a7cd5c"
      },
      "source": [
        "#Printing the classfication report and displaying the confusion matrix\n",
        "from sklearn.metrics import confusion_matrix, classification_report\n",
        "\n",
        "print(classification_report(y_test, y_pred))"
      ],
      "execution_count": 38,
      "outputs": [
        {
          "output_type": "stream",
          "name": "stdout",
          "text": [
            "              precision    recall  f1-score   support\n",
            "\n",
            "           0       0.70      0.85      0.77        27\n",
            "           1       0.79      0.60      0.68        25\n",
            "\n",
            "    accuracy                           0.73        52\n",
            "   macro avg       0.74      0.73      0.72        52\n",
            "weighted avg       0.74      0.73      0.73        52\n",
            "\n"
          ]
        }
      ]
    },
    {
      "cell_type": "code",
      "metadata": {
        "colab": {
          "base_uri": "https://localhost:8080/"
        },
        "id": "Oyn_J2tLojEo",
        "outputId": "ed6ea6ec-cdd5-497a-db9b-3e192fbb542d"
      },
      "source": [
        "#Implementing Dropout layer in Neural Network\n",
        "modeld = keras.Sequential([\n",
        "                          keras.layers.Dense(60, input_dim=60, activation=\"relu\"),\n",
        "                          keras.layers.Dropout(0.5),\n",
        "                          keras.layers.Dense(30, activation=\"relu\"),\n",
        "                          keras.layers.Dropout(0.5),\n",
        "                          keras.layers.Dense(15, activation=\"relu\"),\n",
        "                          keras.layers.Dropout(0.5),\n",
        "                          keras.layers.Dense(1, activation=\"sigmoid\")\n",
        "])\n",
        "\n",
        "modeld.compile(loss=\"binary_crossentropy\", optimizer=\"adam\", metrics=[\"accuracy\"])\n",
        "\n",
        "modeld.fit(X_train, y_train, epochs=100, batch_size=8)\n"
      ],
      "execution_count": 39,
      "outputs": [
        {
          "output_type": "stream",
          "name": "stdout",
          "text": [
            "Epoch 1/100\n",
            "20/20 [==============================] - 1s 2ms/step - loss: 0.7706 - accuracy: 0.4744\n",
            "Epoch 2/100\n",
            "20/20 [==============================] - 0s 1ms/step - loss: 0.6858 - accuracy: 0.5449\n",
            "Epoch 3/100\n",
            "20/20 [==============================] - 0s 2ms/step - loss: 0.6994 - accuracy: 0.5385\n",
            "Epoch 4/100\n",
            "20/20 [==============================] - 0s 2ms/step - loss: 0.7087 - accuracy: 0.4744\n",
            "Epoch 5/100\n",
            "20/20 [==============================] - 0s 1ms/step - loss: 0.7026 - accuracy: 0.5833\n",
            "Epoch 6/100\n",
            "20/20 [==============================] - 0s 1ms/step - loss: 0.6996 - accuracy: 0.4872\n",
            "Epoch 7/100\n",
            "20/20 [==============================] - 0s 1ms/step - loss: 0.7059 - accuracy: 0.4808\n",
            "Epoch 8/100\n",
            "20/20 [==============================] - 0s 2ms/step - loss: 0.6899 - accuracy: 0.5192\n",
            "Epoch 9/100\n",
            "20/20 [==============================] - 0s 2ms/step - loss: 0.6957 - accuracy: 0.5513\n",
            "Epoch 10/100\n",
            "20/20 [==============================] - 0s 1ms/step - loss: 0.7055 - accuracy: 0.4936\n",
            "Epoch 11/100\n",
            "20/20 [==============================] - 0s 1ms/step - loss: 0.6923 - accuracy: 0.5192\n",
            "Epoch 12/100\n",
            "20/20 [==============================] - 0s 2ms/step - loss: 0.6957 - accuracy: 0.5705\n",
            "Epoch 13/100\n",
            "20/20 [==============================] - 0s 2ms/step - loss: 0.6874 - accuracy: 0.5128\n",
            "Epoch 14/100\n",
            "20/20 [==============================] - 0s 1ms/step - loss: 0.6931 - accuracy: 0.5385\n",
            "Epoch 15/100\n",
            "20/20 [==============================] - 0s 2ms/step - loss: 0.6919 - accuracy: 0.5321\n",
            "Epoch 16/100\n",
            "20/20 [==============================] - 0s 2ms/step - loss: 0.6924 - accuracy: 0.5449\n",
            "Epoch 17/100\n",
            "20/20 [==============================] - 0s 2ms/step - loss: 0.6780 - accuracy: 0.5962\n",
            "Epoch 18/100\n",
            "20/20 [==============================] - 0s 2ms/step - loss: 0.6816 - accuracy: 0.5192\n",
            "Epoch 19/100\n",
            "20/20 [==============================] - 0s 2ms/step - loss: 0.6893 - accuracy: 0.5641\n",
            "Epoch 20/100\n",
            "20/20 [==============================] - 0s 2ms/step - loss: 0.6987 - accuracy: 0.5256\n",
            "Epoch 21/100\n",
            "20/20 [==============================] - 0s 2ms/step - loss: 0.6795 - accuracy: 0.5833\n",
            "Epoch 22/100\n",
            "20/20 [==============================] - 0s 2ms/step - loss: 0.6680 - accuracy: 0.5385\n",
            "Epoch 23/100\n",
            "20/20 [==============================] - 0s 2ms/step - loss: 0.6687 - accuracy: 0.6346\n",
            "Epoch 24/100\n",
            "20/20 [==============================] - 0s 2ms/step - loss: 0.6430 - accuracy: 0.6026\n",
            "Epoch 25/100\n",
            "20/20 [==============================] - 0s 2ms/step - loss: 0.6636 - accuracy: 0.6282\n",
            "Epoch 26/100\n",
            "20/20 [==============================] - 0s 2ms/step - loss: 0.6553 - accuracy: 0.5769\n",
            "Epoch 27/100\n",
            "20/20 [==============================] - 0s 2ms/step - loss: 0.6606 - accuracy: 0.6218\n",
            "Epoch 28/100\n",
            "20/20 [==============================] - 0s 2ms/step - loss: 0.6609 - accuracy: 0.5962\n",
            "Epoch 29/100\n",
            "20/20 [==============================] - 0s 2ms/step - loss: 0.6461 - accuracy: 0.6603\n",
            "Epoch 30/100\n",
            "20/20 [==============================] - 0s 2ms/step - loss: 0.6375 - accuracy: 0.6090\n",
            "Epoch 31/100\n",
            "20/20 [==============================] - 0s 2ms/step - loss: 0.6494 - accuracy: 0.6474\n",
            "Epoch 32/100\n",
            "20/20 [==============================] - 0s 2ms/step - loss: 0.6287 - accuracy: 0.6859\n",
            "Epoch 33/100\n",
            "20/20 [==============================] - 0s 2ms/step - loss: 0.6077 - accuracy: 0.6923\n",
            "Epoch 34/100\n",
            "20/20 [==============================] - 0s 1ms/step - loss: 0.6717 - accuracy: 0.5769\n",
            "Epoch 35/100\n",
            "20/20 [==============================] - 0s 2ms/step - loss: 0.6440 - accuracy: 0.6410\n",
            "Epoch 36/100\n",
            "20/20 [==============================] - 0s 2ms/step - loss: 0.6126 - accuracy: 0.6923\n",
            "Epoch 37/100\n",
            "20/20 [==============================] - 0s 1ms/step - loss: 0.6171 - accuracy: 0.6987\n",
            "Epoch 38/100\n",
            "20/20 [==============================] - 0s 1ms/step - loss: 0.6158 - accuracy: 0.6410\n",
            "Epoch 39/100\n",
            "20/20 [==============================] - 0s 1ms/step - loss: 0.6427 - accuracy: 0.6667\n",
            "Epoch 40/100\n",
            "20/20 [==============================] - 0s 1ms/step - loss: 0.5865 - accuracy: 0.6923\n",
            "Epoch 41/100\n",
            "20/20 [==============================] - 0s 2ms/step - loss: 0.5797 - accuracy: 0.6923\n",
            "Epoch 42/100\n",
            "20/20 [==============================] - 0s 1ms/step - loss: 0.5562 - accuracy: 0.7500\n",
            "Epoch 43/100\n",
            "20/20 [==============================] - 0s 2ms/step - loss: 0.5666 - accuracy: 0.7372\n",
            "Epoch 44/100\n",
            "20/20 [==============================] - 0s 2ms/step - loss: 0.5614 - accuracy: 0.7628\n",
            "Epoch 45/100\n",
            "20/20 [==============================] - 0s 1ms/step - loss: 0.5492 - accuracy: 0.7564\n",
            "Epoch 46/100\n",
            "20/20 [==============================] - 0s 2ms/step - loss: 0.5600 - accuracy: 0.7564\n",
            "Epoch 47/100\n",
            "20/20 [==============================] - 0s 2ms/step - loss: 0.5864 - accuracy: 0.6859\n",
            "Epoch 48/100\n",
            "20/20 [==============================] - 0s 2ms/step - loss: 0.5586 - accuracy: 0.7115\n",
            "Epoch 49/100\n",
            "20/20 [==============================] - 0s 2ms/step - loss: 0.5177 - accuracy: 0.7692\n",
            "Epoch 50/100\n",
            "20/20 [==============================] - 0s 1ms/step - loss: 0.5220 - accuracy: 0.7692\n",
            "Epoch 51/100\n",
            "20/20 [==============================] - 0s 1ms/step - loss: 0.5425 - accuracy: 0.7628\n",
            "Epoch 52/100\n",
            "20/20 [==============================] - 0s 2ms/step - loss: 0.5198 - accuracy: 0.7821\n",
            "Epoch 53/100\n",
            "20/20 [==============================] - 0s 1ms/step - loss: 0.5011 - accuracy: 0.7756\n",
            "Epoch 54/100\n",
            "20/20 [==============================] - 0s 1ms/step - loss: 0.4993 - accuracy: 0.7756\n",
            "Epoch 55/100\n",
            "20/20 [==============================] - 0s 2ms/step - loss: 0.5267 - accuracy: 0.7885\n",
            "Epoch 56/100\n",
            "20/20 [==============================] - 0s 2ms/step - loss: 0.4780 - accuracy: 0.7821\n",
            "Epoch 57/100\n",
            "20/20 [==============================] - 0s 2ms/step - loss: 0.4793 - accuracy: 0.7564\n",
            "Epoch 58/100\n",
            "20/20 [==============================] - 0s 2ms/step - loss: 0.5231 - accuracy: 0.8141\n",
            "Epoch 59/100\n",
            "20/20 [==============================] - 0s 1ms/step - loss: 0.4637 - accuracy: 0.7885\n",
            "Epoch 60/100\n",
            "20/20 [==============================] - 0s 2ms/step - loss: 0.4658 - accuracy: 0.7756\n",
            "Epoch 61/100\n",
            "20/20 [==============================] - 0s 2ms/step - loss: 0.4372 - accuracy: 0.8141\n",
            "Epoch 62/100\n",
            "20/20 [==============================] - 0s 2ms/step - loss: 0.4105 - accuracy: 0.8269\n",
            "Epoch 63/100\n",
            "20/20 [==============================] - 0s 2ms/step - loss: 0.4466 - accuracy: 0.8205\n",
            "Epoch 64/100\n",
            "20/20 [==============================] - 0s 1ms/step - loss: 0.4388 - accuracy: 0.8141\n",
            "Epoch 65/100\n",
            "20/20 [==============================] - 0s 1ms/step - loss: 0.4415 - accuracy: 0.7949\n",
            "Epoch 66/100\n",
            "20/20 [==============================] - 0s 2ms/step - loss: 0.4092 - accuracy: 0.8718\n",
            "Epoch 67/100\n",
            "20/20 [==============================] - 0s 2ms/step - loss: 0.4472 - accuracy: 0.8077\n",
            "Epoch 68/100\n",
            "20/20 [==============================] - 0s 2ms/step - loss: 0.3701 - accuracy: 0.8782\n",
            "Epoch 69/100\n",
            "20/20 [==============================] - 0s 1ms/step - loss: 0.4806 - accuracy: 0.8205\n",
            "Epoch 70/100\n",
            "20/20 [==============================] - 0s 2ms/step - loss: 0.4652 - accuracy: 0.8013\n",
            "Epoch 71/100\n",
            "20/20 [==============================] - 0s 2ms/step - loss: 0.3970 - accuracy: 0.8333\n",
            "Epoch 72/100\n",
            "20/20 [==============================] - 0s 1ms/step - loss: 0.4296 - accuracy: 0.8269\n",
            "Epoch 73/100\n",
            "20/20 [==============================] - 0s 1ms/step - loss: 0.4420 - accuracy: 0.8077\n",
            "Epoch 74/100\n",
            "20/20 [==============================] - 0s 1ms/step - loss: 0.4164 - accuracy: 0.8205\n",
            "Epoch 75/100\n",
            "20/20 [==============================] - 0s 2ms/step - loss: 0.4166 - accuracy: 0.8526\n",
            "Epoch 76/100\n",
            "20/20 [==============================] - 0s 1ms/step - loss: 0.4026 - accuracy: 0.8654\n",
            "Epoch 77/100\n",
            "20/20 [==============================] - 0s 2ms/step - loss: 0.3824 - accuracy: 0.8397\n",
            "Epoch 78/100\n",
            "20/20 [==============================] - 0s 1ms/step - loss: 0.3457 - accuracy: 0.8718\n",
            "Epoch 79/100\n",
            "20/20 [==============================] - 0s 1ms/step - loss: 0.4327 - accuracy: 0.8077\n",
            "Epoch 80/100\n",
            "20/20 [==============================] - 0s 1ms/step - loss: 0.3737 - accuracy: 0.8526\n",
            "Epoch 81/100\n",
            "20/20 [==============================] - 0s 1ms/step - loss: 0.4009 - accuracy: 0.8333\n",
            "Epoch 82/100\n",
            "20/20 [==============================] - 0s 1ms/step - loss: 0.3872 - accuracy: 0.8269\n",
            "Epoch 83/100\n",
            "20/20 [==============================] - 0s 1ms/step - loss: 0.3391 - accuracy: 0.8526\n",
            "Epoch 84/100\n",
            "20/20 [==============================] - 0s 1ms/step - loss: 0.4133 - accuracy: 0.8590\n",
            "Epoch 85/100\n",
            "20/20 [==============================] - 0s 2ms/step - loss: 0.3193 - accuracy: 0.8718\n",
            "Epoch 86/100\n",
            "20/20 [==============================] - 0s 1ms/step - loss: 0.3499 - accuracy: 0.8782\n",
            "Epoch 87/100\n",
            "20/20 [==============================] - 0s 1ms/step - loss: 0.3273 - accuracy: 0.8526\n",
            "Epoch 88/100\n",
            "20/20 [==============================] - 0s 2ms/step - loss: 0.3191 - accuracy: 0.8654\n",
            "Epoch 89/100\n",
            "20/20 [==============================] - 0s 1ms/step - loss: 0.3657 - accuracy: 0.8462\n",
            "Epoch 90/100\n",
            "20/20 [==============================] - 0s 1ms/step - loss: 0.3145 - accuracy: 0.8910\n",
            "Epoch 91/100\n",
            "20/20 [==============================] - 0s 1ms/step - loss: 0.3068 - accuracy: 0.8718\n",
            "Epoch 92/100\n",
            "20/20 [==============================] - 0s 1ms/step - loss: 0.3032 - accuracy: 0.8654\n",
            "Epoch 93/100\n",
            "20/20 [==============================] - 0s 1ms/step - loss: 0.3409 - accuracy: 0.8846\n",
            "Epoch 94/100\n",
            "20/20 [==============================] - 0s 1ms/step - loss: 0.2992 - accuracy: 0.8782\n",
            "Epoch 95/100\n",
            "20/20 [==============================] - 0s 2ms/step - loss: 0.2776 - accuracy: 0.8718\n",
            "Epoch 96/100\n",
            "20/20 [==============================] - 0s 2ms/step - loss: 0.2814 - accuracy: 0.9038\n",
            "Epoch 97/100\n",
            "20/20 [==============================] - 0s 2ms/step - loss: 0.2568 - accuracy: 0.8782\n",
            "Epoch 98/100\n",
            "20/20 [==============================] - 0s 2ms/step - loss: 0.2917 - accuracy: 0.8782\n",
            "Epoch 99/100\n",
            "20/20 [==============================] - 0s 2ms/step - loss: 0.2897 - accuracy: 0.8910\n",
            "Epoch 100/100\n",
            "20/20 [==============================] - 0s 2ms/step - loss: 0.2907 - accuracy: 0.8974\n"
          ]
        },
        {
          "output_type": "execute_result",
          "data": {
            "text/plain": [
              "<keras.callbacks.History at 0x7fe448213a90>"
            ]
          },
          "metadata": {},
          "execution_count": 39
        }
      ]
    },
    {
      "cell_type": "code",
      "metadata": {
        "colab": {
          "base_uri": "https://localhost:8080/"
        },
        "id": "bjSpLcYfpVct",
        "outputId": "74fc9f52-9ca0-42f4-8845-1915af2cf0d1"
      },
      "source": [
        "#Evaluating Model with drop out layers\n",
        "modeld.evaluate(X_test, y_test)"
      ],
      "execution_count": 40,
      "outputs": [
        {
          "output_type": "stream",
          "name": "stdout",
          "text": [
            "2/2 [==============================] - 0s 4ms/step - loss: 0.4315 - accuracy: 0.7885\n"
          ]
        },
        {
          "output_type": "execute_result",
          "data": {
            "text/plain": [
              "[0.4314960241317749, 0.7884615659713745]"
            ]
          },
          "metadata": {},
          "execution_count": 40
        }
      ]
    },
    {
      "cell_type": "code",
      "metadata": {
        "colab": {
          "base_uri": "https://localhost:8080/"
        },
        "id": "eRDvXuKapfzX",
        "outputId": "0751685d-d6f7-43a9-af07-f20425e1fa29"
      },
      "source": [
        "y_pred = modeld.predict(X_test).reshape(-1)\n",
        "y_pred = np.round(y_pred)\n",
        "#Printing classification report for Model with drop out layers\n",
        "from sklearn.metrics import classification_report, confusion_matrix\n",
        "\n",
        "print(classification_report(y_test, y_pred))"
      ],
      "execution_count": 42,
      "outputs": [
        {
          "output_type": "stream",
          "name": "stdout",
          "text": [
            "              precision    recall  f1-score   support\n",
            "\n",
            "           0       0.79      0.81      0.80        27\n",
            "           1       0.79      0.76      0.78        25\n",
            "\n",
            "    accuracy                           0.79        52\n",
            "   macro avg       0.79      0.79      0.79        52\n",
            "weighted avg       0.79      0.79      0.79        52\n",
            "\n"
          ]
        }
      ]
    },
    {
      "cell_type": "code",
      "metadata": {
        "id": "F-hURSJ8qDjl"
      },
      "source": [
        ""
      ],
      "execution_count": null,
      "outputs": []
    }
  ]
}